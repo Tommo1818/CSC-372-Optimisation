{
 "cells": [
  {
   "cell_type": "markdown",
   "metadata": {},
   "source": [
    "# Lab 6 - Genetic Algorithms"
   ]
  },
  {
   "cell_type": "markdown",
   "metadata": {},
   "source": []
  },
  {
   "cell_type": "code",
   "execution_count": 274,
   "metadata": {},
   "outputs": [],
   "source": [
    "import numpy as np\n",
    "import matplotlib.pyplot as plt"
   ]
  },
  {
   "cell_type": "markdown",
   "metadata": {},
   "source": [
    "<h2>Task 1:</h2> Write a function in Python that takes a decision array x, a weight array w, a value array\n",
    "v, a limit on weight W, a penalty multiplier r and an exponent β, and returns the result of\n",
    "φstatic(x, f(·), g(·)) "
   ]
  },
  {
   "cell_type": "code",
   "execution_count": 275,
   "metadata": {},
   "outputs": [],
   "source": [
    "#returns the objective function value of a solution\n",
    "def phi_static(x_arr, w_arr, v_arr, f, g, r, beta, w_lim):\n",
    "    # x_arr: decision array\n",
    "    # f: objective function\n",
    "    # g: constraint function\n",
    "    # r: penalty parameter\n",
    "    # beta: exponent\n",
    "    # W: constraint limit\n",
    "    return f(x_arr, v_arr) - r * max(0, g(x_arr, w_arr, w_lim)) ** beta\n",
    "\n",
    "#returns the total weight of a solution\n",
    "def g(x_arr, w_arr, w_lim):\n",
    "    return np.sum(x_arr * w_arr) - w_lim\n",
    "\n",
    "#returns the total cost of a solution\n",
    "def f(x_arr, v_arr):\n",
    "    return np.sum(x_arr * v_arr)"
   ]
  },
  {
   "cell_type": "code",
   "execution_count": 276,
   "metadata": {},
   "outputs": [
    {
     "name": "stdout",
     "output_type": "stream",
     "text": [
      "[(1, 'Banana', 600, 1.35) (2, 'Raspberries', 180, 2.25)\n",
      " (3, 'Blueberries', 250, 2.5 ) (4, 'Medjool Dates', 500, 4.5 )\n",
      " (5, 'Pineapple', 400, 1.75) (6, 'Mango', 250, 2.5 )\n",
      " (7, 'Watermelon', 380, 2.  ) (8, 'Strawberries', 400, 3.5 )]\n",
      "12.350000023841858\n",
      "-43.46999997615815\n",
      "-1739.3099999761582\n"
     ]
    }
   ],
   "source": [
    "data = np.array([\n",
    "    (1, 'Banana', 600, 1.35),\n",
    "    (2, 'Raspberries', 180, 2.25),\n",
    "    (3, 'Blueberries', 250, 2.5),\n",
    "    (4, 'Medjool Dates', 500, 4.50),\n",
    "    (5, 'Pineapple', 400, 1.75),\n",
    "    (6, 'Mango', 250, 2.5),\n",
    "    (7, 'Watermelon', 380, 2),\n",
    "    (8, 'Strawberries', 400, 3.5)\n",
    "], dtype=[('id', 'i4'), ('name', 'U20'), ('weight', 'i4'), ('value', 'f4')])\n",
    "\n",
    "print(data)\n",
    "print(phi_static(np.array([1, 1, 1, 1, 1, 0, 0, 0]), data['weight'], data['value'], f, g, 0.00001, 2, 2000))\n",
    "print(phi_static(np.array([1, 1, 1, 1, 1, 1, 0, 0]), data['weight'], data['value'], f, g, 0.00001, 3, 2000))\n",
    "print(phi_static(np.array([1, 1, 1, 1, 1, 1, 1, 0]), data['weight'], data['value'], f, g, 0.00001, 3, 2000))"
   ]
  },
  {
   "cell_type": "markdown",
   "metadata": {},
   "source": [
    "<h2>Task 2:</h2>\n",
    "Implement a function for generating a random population (as a 2-dimensional binary array).\n",
    "This function should take the number of rows and number of columns as parameters."
   ]
  },
  {
   "cell_type": "code",
   "execution_count": 277,
   "metadata": {},
   "outputs": [
    {
     "name": "stdout",
     "output_type": "stream",
     "text": [
      "[[1 1 0 0 1 1 1 1]\n",
      " [0 0 0 0 0 0 0 1]\n",
      " [1 1 1 1 1 0 1 0]\n",
      " [0 0 0 0 1 0 0 1]\n",
      " [1 0 0 1 0 0 0 1]\n",
      " [0 1 1 1 0 1 0 0]\n",
      " [1 1 0 1 1 1 0 1]\n",
      " [0 0 0 1 1 0 1 1]\n",
      " [0 1 1 1 0 0 0 0]\n",
      " [1 0 0 1 1 0 0 1]]\n"
     ]
    }
   ],
   "source": [
    "def gen_rand_pop (rows, cols):\n",
    "    return np.random.randint(2, size=(rows, cols))\n",
    "print(gen_rand_pop(10, 8))"
   ]
  },
  {
   "cell_type": "markdown",
   "metadata": {},
   "source": [
    "<h2>Task 3:</h2>\n",
    "Implement the truncation selection function with k = 4"
   ]
  },
  {
   "cell_type": "code",
   "execution_count": 278,
   "metadata": {},
   "outputs": [],
   "source": [
    "def trunc_selec(data, pop_num, w_lim, k):\n",
    "    # pop: population\n",
    "    # phi: objective function\n",
    "    # w_lim: weight limit\n",
    "    # k: number of selected individuals\n",
    "    # returns: selected individuals\n",
    "    pop = gen_rand_pop(pop_num, 8)\n",
    "    \n",
    "    for i in range(pop_num):\n",
    "        pop[i][7] = phi_static(pop[i], data['weight'], data['value'], f, g, 0.001, 3, w_lim)\n",
    "        \n",
    "    #sort by objective function value from highest to lowest\n",
    "    pop = pop[pop[:,7].argsort()[::-1]]\n",
    "\n",
    "    #return the k best individuals\n",
    "    return pop[:k]\n",
    "    "
   ]
  },
  {
   "cell_type": "code",
   "execution_count": 279,
   "metadata": {},
   "outputs": [
    {
     "name": "stdout",
     "output_type": "stream",
     "text": [
      "[[ 0  0  1  0  1  1  1 12]\n",
      " [ 1  0  1  1  0  0  0 11]\n",
      " [ 0  0  1  0  1  1  0 10]\n",
      " [ 0  1  1  0  1  0  0 10]\n",
      " [ 1  1  1  0  0  0  0  9]]\n"
     ]
    }
   ],
   "source": [
    "print(trunc_selec(data, 10, 2000, 5))"
   ]
  },
  {
   "cell_type": "markdown",
   "metadata": {},
   "source": [
    "<h2>Task 4 & 5:</h2>Implement the one-point crossover function and bitwise mutation function"
   ]
  },
  {
   "cell_type": "code",
   "execution_count": 280,
   "metadata": {},
   "outputs": [],
   "source": [
    "def one_point_crossover(parent1, parent2, probability):\n",
    "    # parent1: first parent\n",
    "    # parent2: second parent\n",
    "    # returns: two children\n",
    "    child1 = [0, 0, 0, 0, 0, 0, 0, 0]\n",
    "    child2 = [0, 0, 0, 0, 0, 0, 0, 0]\n",
    "    crossover_point = np.random.randint(1, 7) \n",
    "    \n",
    "    for i in range(crossover_point):\n",
    "        if np.random.random() < probability:\n",
    "            child1[i] = parent2[i]\n",
    "            child2[i] = parent1[i]\n",
    "        \n",
    "    for i in range(crossover_point, 8):\n",
    "        if np.random.random() < probability:\n",
    "            child1[i] = parent1[i]\n",
    "            child2[i] = parent2[i]\n",
    "        \n",
    "    return child1, child2 \n",
    "\n",
    "def bitwise_mutation(child, p):\n",
    "    # child: child to mutate\n",
    "    # p: probability of mutation\n",
    "    # returns: mutated child\n",
    "    for i in range(8):\n",
    "        if np.random.random() < p:\n",
    "            child[i] = 1 - child[i]\n",
    "    return child"
   ]
  },
  {
   "cell_type": "code",
   "execution_count": 281,
   "metadata": {},
   "outputs": [
    {
     "name": "stdout",
     "output_type": "stream",
     "text": [
      "[0 0 0 0 0 0 0 0]\n",
      "[1 1 0 0 1 0 0 1]\n",
      "([0, 0, 0, 0, 0, 0, 0, 0], [0, 0, 0, 0, 0, 0, 0, 1])\n",
      "[0 0 0 0 1 0 0 0]\n"
     ]
    }
   ],
   "source": [
    "# create a test array of 8 random binary numbers\n",
    "test_arr = np.random.randint(2, size=8)\n",
    "test_arr2 = np.random.randint(2, size=8)\n",
    "print(test_arr)\n",
    "print(test_arr2)\n",
    "print(one_point_crossover(test_arr, test_arr2, 0.5))\n",
    "print(bitwise_mutation(test_arr, 0.1))\n"
   ]
  },
  {
   "cell_type": "markdown",
   "metadata": {},
   "source": [
    "testing"
   ]
  },
  {
   "cell_type": "code",
   "execution_count": 282,
   "metadata": {},
   "outputs": [
    {
     "name": "stdout",
     "output_type": "stream",
     "text": [
      "[[ 1  1  1  0  1  0  1 13]\n",
      " [ 0  1  1  1  1  0  1 13]\n",
      " [ 0  1  1  1  0  0  1 11]\n",
      " [ 1  1  1  0  0  0  0  9]]\n",
      "[(1, 'Banana', 600, 1.35), (2, 'Raspberries', 180, 2.25), (3, 'Blueberries', 250, 2.5), (5, 'Pineapple', 400, 1.75), (7, 'Watermelon', 380, 2.)]\n",
      "Total weight:  1810 Total price:  9.85\n",
      "[(2, 'Raspberries', 180, 2.25), (3, 'Blueberries', 250, 2.5), (4, 'Medjool Dates', 500, 4.5), (5, 'Pineapple', 400, 1.75), (7, 'Watermelon', 380, 2.)]\n",
      "Total weight:  1710 Total price:  13.0\n",
      "[(2, 'Raspberries', 180, 2.25), (3, 'Blueberries', 250, 2.5), (4, 'Medjool Dates', 500, 4.5), (7, 'Watermelon', 380, 2.)]\n",
      "Total weight:  1310 Total price:  11.25\n",
      "[(1, 'Banana', 600, 1.35), (2, 'Raspberries', 180, 2.25), (3, 'Blueberries', 250, 2.5)]\n",
      "Total weight:  1030 Total price:  6.1\n"
     ]
    }
   ],
   "source": [
    "best = trunc_selec(data, 10, 2500, 4)\n",
    "print(best)\n",
    "\n",
    "# take a solution and output the names from the data\n",
    "def get_data(x, data):\n",
    "    data_arr = []\n",
    "    for i in range(len(x)):\n",
    "        if x[i] == 1:\n",
    "            data_arr.append(data[i])\n",
    "    return data_arr\n",
    "\n",
    "# take a population and output the names from the data\n",
    "def get_data_pop(pop, data): \n",
    "    pop_arr = []\n",
    "    for x in pop:\n",
    "        pop_arr.append(get_data(x, data))\n",
    "    return pop_arr\n",
    "\n",
    "best_arr = get_data_pop(best, data)\n",
    "\n",
    "for x in best_arr:\n",
    "    print(x)\n",
    "    #calculate total weight in the solution\n",
    "    total_weight = 0\n",
    "    total_price = 0\n",
    "    for y in x:\n",
    "        total_weight += y[2]\n",
    "        total_price += y[3]\n",
    "    total_price = round(total_price, 2)\n",
    "    print(\"Total weight: \", total_weight, \"Total price: \", total_price)\n"
   ]
  },
  {
   "cell_type": "markdown",
   "metadata": {},
   "source": [
    "<h2>Task 5</h2>Implement the Genetic Algorithm discussed in the lecture"
   ]
  },
  {
   "cell_type": "code",
   "execution_count": 283,
   "metadata": {},
   "outputs": [],
   "source": [
    "def genetic_algo(data, pop_size, w_lim, its, cross_prob, mut_prob):\n",
    "    # data: data array\n",
    "    # w_lim: weight limit\n",
    "    # pop_size: population size\n",
    "    # p: probability of mutation\n",
    "    # its: number of iterations\n",
    "    # returns: best solution\n",
    "    \n",
    "    #use truncation selection to generate an initial population\n",
    "    pop = trunc_selec(data, pop_size, w_lim, pop_size)\n",
    "    \n",
    "    for i in range(its):\n",
    "        #select the top 2 individuals from the population as parents\n",
    "        parent1 = pop[0]\n",
    "        parent2 = pop[1]\n",
    "        \n",
    "        #crossover the parents\n",
    "        child1, child2 = one_point_crossover(parent1, parent2, cross_prob)\n",
    "        \n",
    "        #mutate the children\n",
    "        child1 = bitwise_mutation(child1, mut_prob)\n",
    "        child2 = bitwise_mutation(child2, mut_prob)\n",
    "        \n",
    "        #replace the worst 2 individuals with the children\n",
    "        pop[-1] = child1\n",
    "        pop[-2] = child2\n",
    "        \n",
    "        #calculate the objective function value for each individual\n",
    "        for j in range(pop_size):\n",
    "            pop[j][7] = phi_static(pop[j], data['weight'], data['value'], f, g, 0.00001, 3, w_lim)\n",
    "            \n",
    "        #sort the population by objective function value, highest to lowest\n",
    "        pop = pop[pop[:,7].argsort()[::-1]]\n",
    "        print(pop)\n",
    "        \n",
    "    return pop[0]\n"
   ]
  },
  {
   "cell_type": "code",
   "execution_count": 284,
   "metadata": {},
   "outputs": [
    {
     "name": "stdout",
     "output_type": "stream",
     "text": [
      "[[    0     0     1     1     1     0     0 18911]\n",
      " [    0     0     0     1     1     1     0 18911]\n",
      " [    1     1     0     0     0     0     1 13454]\n",
      " [    0     0     1     1     0     1     0  8921]\n",
      " [    0     1     1     0     0     0     0    18]\n",
      " [    0     0     0     1     0     0     0    18]\n",
      " [    1     1     1     0     1     1     0   -31]\n",
      " [    0     1     0     1     1     0     1 -3235]\n",
      " [    0     0     1     0     0     0     1 -3501]\n",
      " [    0     0     0     1     1     0     0 -5092]]\n",
      "[[     1      0      0      0      1      1      0  83906]\n",
      " [     1      0      0      1      0      0      0  67040]\n",
      " [     0      0      0      1      1      1      0  61800]\n",
      " [     0      0      1      1      1      0      0  61800]\n",
      " [     1      1      0      0      0      0      1  51425]\n",
      " [     0      0      1      1      0      1      0  18883]\n",
      " [     0      0      0      1      0      0      0  11326]\n",
      " [     1      1      1      0      1      1      0    -98]\n",
      " [     0      1      0      1      1      0      1 -11312]\n",
      " [     0      1      1      0      0      0      0 -18549]]\n",
      "[[     1      0      0      0      1      1      0 307141]\n",
      " [     0      0      1      0      1      1      1 297214]\n",
      " [     1      0      0      1      0      0      0 239550]\n",
      " [     0      0      1      1      0      0      0 215593]\n",
      " [     0      0      1      1      1      0      0 207189]\n",
      " [     0      0      0      1      1      1      0 207189]\n",
      " [     1      1      0      0      0      0      1 160351]\n",
      " [     0      0      1      1      0      1      0  47578]\n",
      " [     0      0      0      1      0      0      0  32015]\n",
      " [     1      1      1      0      1      1      0   -332]]\n",
      "[[       0        0        1        0        1        1        1  1072726]\n",
      " [       1        0        0        0        1        1        0  1056210]\n",
      " [       0        0        1        0        1        1        1  1053777]\n",
      " [       1        0        0        1        0        0        0   826193]\n",
      " [       0        0        1        1        0        0        0   737805]\n",
      " [       0        0        0        1        1        1        0   724677]\n",
      " [       0        0        1        1        1        0        0   724677]\n",
      " [       1        1        0        0        0        0        1   554329]\n",
      " [       0        0        1        1        0        1        0   166647]\n",
      " [       1        0        0        1        1        1        1 -1040233]]\n",
      "[[       0        0        1        0        1        1        1  3769200]\n",
      " [       0        0        1        0        1        1        1  3705107]\n",
      " [       1        0        0        0        1        1        0  3695846]\n",
      " [       1        0        0        1        0        0        0  2883672]\n",
      " [       0        0        1        1        0        0        0  2586923]\n",
      " [       0        0        1        1        1        0        0  2545348]\n",
      " [       0        0        0        1        1        1        0  2545348]\n",
      " [       1        1        0        0        0        0        1  1951923]\n",
      " [       0        0        1        0        0        1        0 -3696726]\n",
      " [       1        0        0        0        1        1        1 -3754529]]\n",
      "[[        0         0         1         0         1         1         1\n",
      "   13175835]\n",
      " [        0         0         1         0         1         1         1\n",
      "   12970082]\n",
      " [        0         0         1         0         0         0         1\n",
      "   12967520]\n",
      " [        1         0         0         0         1         1         0\n",
      "   12920682]\n",
      " [        1         0         0         1         0         0         0\n",
      "   10084488]\n",
      " [        0         0         1         1         0         0         0\n",
      "    9049945]\n",
      " [        0         0         0         1         1         1         0\n",
      "    8895778]\n",
      " [        0         0         1         1         1         0         0\n",
      "    8895778]\n",
      " [        1         1         0         0         0         0         1\n",
      "    6841525]\n",
      " [        0         0         1         0         1         1         0\n",
      "  -13192189]]\n",
      "[[        0         0         1         0         1         1         1\n",
      "   46107149]\n",
      " [        0         0         1         0         0         0         1\n",
      "   45407549]\n",
      " [        0         0         1         0         1         1         1\n",
      "   45389405]\n",
      " [        0         0         1         0         1         1         1\n",
      "   45389405]\n",
      " [        1         0         0         0         1         1         0\n",
      "   45202934]\n",
      " [        1         0         0         1         0         0         0\n",
      "   35295713]\n",
      " [        0         0         1         1         0         0         0\n",
      "   31674814]\n",
      " [        0         0         1         1         1         0         0\n",
      "   31135231]\n",
      " [        0         0         0         1         1         1         0\n",
      "   31135231]\n",
      " [        0         0         1         0         1         1         1\n",
      "  -46115410]]\n",
      "[[         0          0          1          0          1          1\n",
      "           1  161386417]\n",
      " [         1          0          0          0          1          1\n",
      "           0  161377522]\n",
      " [         0          0          1          0          0          0\n",
      "           1  158917583]\n",
      " [         0          0          1          0          1          1\n",
      "           1  158870470]\n",
      " [         0          0          1          0          1          1\n",
      "           1  158870470]\n",
      " [         1          0          0          0          1          1\n",
      "           0  158208439]\n",
      " [         1          0          0          1          0          0\n",
      "           0  123549338]\n",
      " [         0          0          1          1          0          0\n",
      "           0  110861856]\n",
      " [         0          0          1          1          1          0\n",
      "           0  108973317]\n",
      " [         1          0          0          0          0          1\n",
      "           0 -158926414]]\n",
      "[[        0         0         1         0         1         1         1\n",
      "  564867930]\n",
      " [        1         0         0         0         1         1         0\n",
      "  564807286]\n",
      " [        0         0         1         0         0         0         1\n",
      "  556211545]\n",
      " [        0         0         1         0         1         1         1\n",
      "  556046653]\n",
      " [        0         0         1         0         1         1         1\n",
      "  556046653]\n",
      " [        1         0         0         0         1         1         0\n",
      "  553729542]\n",
      " [        1         0         0         1         0         0         0\n",
      "  432422688]\n",
      " [        0         0         1         1         0         0         0\n",
      "  388031661]\n",
      " [        1         1         1         0         1         0         1\n",
      "          9]\n",
      " [        0         0         1         0         1         0         0\n",
      "          4]]\n",
      "[[          0           0           1           0           1           1\n",
      "            1  1977037763]\n",
      " [          1           0           0           1           1           1\n",
      "            0  1976825511]\n",
      " [          1           0           0           0           1           1\n",
      "            0  1976825506]\n",
      " [          0           0           1           0           0           0\n",
      "            1  1946740412]\n",
      " [          0           0           1           0           1           1\n",
      "            1  1946163294]\n",
      " [          0           0           1           0           1           1\n",
      "            1  1946163294]\n",
      " [          1           0           0           0           1           1\n",
      "            0  1938053402]\n",
      " [          1           0           0           1           0           0\n",
      "            0  1513467463]\n",
      " [          0           0           1           1           0           0\n",
      "            0  1358128411]\n",
      " [          1           0           0           0           1           1\n",
      "            1 -1977032853]]\n",
      "[         0          0          1          0          1          1\n",
      "          1 1977037763]\n",
      "[(3, 'Blueberries', 250, 2.5), (5, 'Pineapple', 400, 1.75), (6, 'Mango', 250, 2.5), (7, 'Watermelon', 380, 2.)]\n",
      "Total weight:  1280 Total price:  8.75\n"
     ]
    }
   ],
   "source": [
    "best = genetic_algo(data, 10, 2500, 10, 0.8, 0.2)\n",
    "print(best)\n",
    "#print the names of the items in the best solution\n",
    "best_arr = get_data(best, data)\n",
    "print(best_arr)\n",
    "total_weight = 0\n",
    "total_price = 0\n",
    "for x in best_arr:\n",
    "    total_weight += x[2]\n",
    "    total_price += x[3]\n",
    "total_price = round(total_price, 2)\n",
    "print(\"Total weight: \", total_weight, \"Total price: \", total_price)"
   ]
  }
 ],
 "metadata": {
  "kernelspec": {
   "display_name": "base",
   "language": "python",
   "name": "python3"
  },
  "language_info": {
   "codemirror_mode": {
    "name": "ipython",
    "version": 3
   },
   "file_extension": ".py",
   "mimetype": "text/x-python",
   "name": "python",
   "nbconvert_exporter": "python",
   "pygments_lexer": "ipython3",
   "version": "3.11.5"
  }
 },
 "nbformat": 4,
 "nbformat_minor": 2
}
