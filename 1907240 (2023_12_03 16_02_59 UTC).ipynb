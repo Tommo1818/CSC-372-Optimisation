{
 "cells": [
  {
   "cell_type": "markdown",
   "metadata": {},
   "source": [
    "<h1>hello and welcome to my cw1 for optimisation"
   ]
  },
  {
   "cell_type": "markdown",
   "metadata": {},
   "source": [
    "imports and setters.\n",
    "\n",
    "set the seed for random number generators here"
   ]
  },
  {
   "cell_type": "code",
   "execution_count": 41,
   "metadata": {},
   "outputs": [],
   "source": [
    "import numpy as np\n",
    "import math as m\n",
    "import random\n",
    "import matplotlib.pyplot as plt\n",
    "\n",
    "seed = 1234567\n",
    "rng = np.random.default_rng(seed)\n",
    "\n",
    "g1_calls = 0\n",
    "g1_test_calls = 0\n",
    "g2_calls = 0\n",
    "g2_test_calls = 0\n",
    "g3_calls = 0\n",
    "g3_test_calls = 0\n",
    "g4_calls = 0\n",
    "g4_test_calls = 0\n",
    "g5_calls = 0\n",
    "g5_test_calls = 0\n",
    "g6_calls = 0\n",
    "g6_test_calls = 0\n",
    "g7_calls = 0\n",
    "g7_test_calls = 0\n"
   ]
  },
  {
   "cell_type": "markdown",
   "metadata": {},
   "source": [
    "constraint testing functions for marks"
   ]
  },
  {
   "cell_type": "code",
   "execution_count": 42,
   "metadata": {},
   "outputs": [],
   "source": [
    "def g1_test(x):\n",
    "    global g1_test_calls\n",
    "    g1_test_calls += 1\n",
    "    return 101000 - w(x)\n",
    "\n",
    "def g2_test(x):\n",
    "    global g2_test_calls\n",
    "    g2_test_calls += 1\n",
    "    return p0(x) - 1000\n",
    "\n",
    "def g3_test(x):\n",
    "    global g3_test_calls\n",
    "    g3_test_calls += 1\n",
    "    return dt(x) - 50\n",
    "\n",
    "def g4_test(x):\n",
    "    global g4_test_calls \n",
    "    g4_test_calls += 1\n",
    "    return 0.001 - h(x)\n",
    "\n",
    "def g5_test(x):\n",
    "    global g5_test_calls \n",
    "    g5_test_calls += 1\n",
    "    return x[1] - x[2]\n",
    "\n",
    "def g6_test(x):\n",
    "    global g6_test_calls \n",
    "    g6_test_calls += 1\n",
    "    return ((0.0307 * x[0]) / (772.8 * m.pi * p0(x) * h(x) * x[2])) - 0.001\n",
    "\n",
    "def g7_test(x):\n",
    "    global g7_test_calls \n",
    "    g7_test_calls += 1\n",
    "    return (w(x) / (m.pi * (x[2]**2 - x[1]**2))) - 5000\n",
    "\n",
    "#implement the other parameters\n",
    "def p(x):\n",
    "    return (np.log10(np.log10(8.122 * x[3] + 0.8)) - 10.04) / - 3.55\n",
    "\n",
    "def dt(x):\n",
    "    return 2 * (10**(p(x)) - 560)\n",
    "\n",
    "def ef(x):\n",
    "    return 143.308 * dt(x) * x[0]\n",
    "\n",
    "def h(x):\n",
    "    return ((1500 * m.pi) / 60)**2 * ((2 * 10**(-6) * m.pi * x[3]) / ef(x)) * (\n",
    "        (x[2]**4 / 4) - (x[1]**4 / 4))\n",
    "    \n",
    "def p0(x):\n",
    "    return ((6 * 10**(-6) * x[3] * x[0])/m.pi * h(x)**3) * (np.log(x[2] / x[1]))\n",
    "\n",
    "def w(x):\n",
    "    return ((m.pi * p0(x)) / 2) * ((x[2]**2 - x[1]**2) / np.log(x[2] / x[1]))"
   ]
  },
  {
   "cell_type": "markdown",
   "metadata": {},
   "source": [
    "task 1: constraint functions that only return a bool"
   ]
  },
  {
   "cell_type": "code",
   "execution_count": 43,
   "metadata": {},
   "outputs": [],
   "source": [
    "def g1(x):\n",
    "    global g1_calls\n",
    "    g1_calls += 1\n",
    "    return 101000 - w(x) <= 0\n",
    "\n",
    "def g2(x):\n",
    "    global g2_calls\n",
    "    g2_calls += 1\n",
    "    return p0(x) - 1000 <= 0\n",
    "\n",
    "def g3(x):\n",
    "    global g3_calls\n",
    "    g3_calls += 1\n",
    "    return dt(x) - 50 <= 0\n",
    "\n",
    "def g4(x):\n",
    "    global g4_calls \n",
    "    g4_calls += 1\n",
    "    return 0.001 - h(x) <= 0\n",
    "\n",
    "def g5(x):\n",
    "    global g5_calls \n",
    "    g5_calls += 1\n",
    "    return x[1] - x[2] <= 0\n",
    "\n",
    "def g6(x):\n",
    "    global g6_calls \n",
    "    g6_calls += 1\n",
    "    return ((0.0307 * x[0]) / (772.8 * m.pi * p0(x) * h(x) * x[2])) - 0.001 <= 0\n",
    "\n",
    "def g7(x):\n",
    "    global g7_calls \n",
    "    g7_calls += 1\n",
    "    return (w(x) / (m.pi * (x[2]**2 - x[1]**2))) - 5000 <= 0\n",
    "\n",
    "#implement the other parameters\n",
    "def p(x):\n",
    "    return (np.log10(np.log10(8.122 * x[3] + 0.8)) - 10.04) / -3.55\n",
    "\n",
    "def dt(x):\n",
    "    return 2 * (10**(p(x)) - 560)\n",
    "\n",
    "def ef(x):\n",
    "    return 143.308 * dt(x) * x[0]\n",
    "\n",
    "def h(x):\n",
    "    return ((1500 * m.pi) / 60)**2 * ((2 * 10**(-6) * m.pi * x[3]) / ef(x)) * (\n",
    "        (x[2]**4 / 4) - (x[1]**4 / 4))\n",
    "    \n",
    "def p0(x):\n",
    "    return ((6 * 10**(-6) * x[3] * x[0])/m.pi * h(x)**3) * (np.log(x[2] / x[1]))\n",
    "\n",
    "def w(x):\n",
    "    return ((m.pi * p0(x)) / 2) * ((x[2]**2 - x[1]**2) / np.log(x[2] / x[1]))\n",
    "\n",
    "#the main function\n",
    "def func(x):\n",
    "    return ((p0(x) * x[0]) / 0.7) + ef(x)\n",
    "\n",
    "def alltrue(x):\n",
    "    return g1(x) and g2(x) and g3(x) and g4(x) and g5(x) and g6(x) and g7(x)"
   ]
  },
  {
   "cell_type": "markdown",
   "metadata": {},
   "source": [
    "test the constraints are properly implemented"
   ]
  },
  {
   "cell_type": "code",
   "execution_count": 44,
   "metadata": {},
   "outputs": [
    {
     "name": "stdout",
     "output_type": "stream",
     "text": [
      "-1784.0772106526924\n",
      "101000.00930833019\n",
      "-1000.0000364296213\n",
      "-52.97118117373543\n",
      "-0.9196377239881502\n",
      "4.88\n",
      "-0.23713799445401706\n",
      "-4999.99996674926\n"
     ]
    }
   ],
   "source": [
    "x = np.array([4.19, 11.57, 6.69, 10.65])\n",
    "print(func(x))\n",
    "print(g1_test(x))\n",
    "print(g2_test(x))\n",
    "print(g3_test(x))\n",
    "print(g4_test(x))\n",
    "print(g5_test(x))\n",
    "print(g6_test(x))\n",
    "print(g7_test(x))"
   ]
  },
  {
   "cell_type": "markdown",
   "metadata": {},
   "source": [
    "implement random search to find min of function\n",
    "\n",
    "w_gen function finds true inputs first before finding the minimum.\n",
    "\n",
    "input: number of true values to find\n",
    "\n",
    "no_gen function calculates \"its\" number of random values and then finds true inputs after\n",
    "\n",
    "input: number of iterations to try and find true values"
   ]
  },
  {
   "cell_type": "code",
   "execution_count": 45,
   "metadata": {},
   "outputs": [],
   "source": [
    "'''\n",
    "def gentruex():\n",
    "    its = 0\n",
    "    while True:\n",
    "        x = np.random.uniform(1, 16, 4)\n",
    "        its += 1\n",
    "        if alltrue(x):\n",
    "            print('good input found after', its, 'iterations:\\n', x)\n",
    "            return x\n",
    "        \n",
    "def rand_search_w_gen(its):\n",
    "    print('running random search for', its, 'iterations')\n",
    "    for i in range(its):\n",
    "        x = gentruex()\n",
    "        if i == 0:\n",
    "            bestx = x\n",
    "            bestf = func(x)\n",
    "        else:\n",
    "            if func(x) < bestf:\n",
    "                bestx = x\n",
    "                bestf = func(x)\n",
    "    return bestf, bestx\n",
    "'''\n",
    "\n",
    "def rand_search_no_gen(its):\n",
    "    trueresults = []\n",
    "    for i in range(its):\n",
    "        x = rng.uniform(1, 16, 4)\n",
    "        if alltrue(x):\n",
    "            result = [x, func(x)]\n",
    "            trueresults.append(result)\n",
    "    if len(trueresults) == 0:\n",
    "        print('RS: no true inputs found')\n",
    "        return None,None\n",
    "    else:\n",
    "        print('RS: best found!')\n",
    "        return min(trueresults, key=lambda x: x[1])"
   ]
  },
  {
   "cell_type": "markdown",
   "metadata": {},
   "source": [
    "run random search"
   ]
  },
  {
   "cell_type": "code",
   "execution_count": 46,
   "metadata": {},
   "outputs": [],
   "source": [
    "#optimal = rand_search_no_gen(10000)\n",
    "#print('optimal input: ', optimal[0], '\\noutput: ', optimal[1])\n"
   ]
  },
  {
   "cell_type": "markdown",
   "metadata": {},
   "source": [
    "implement simulated annealing "
   ]
  },
  {
   "cell_type": "code",
   "execution_count": 47,
   "metadata": {},
   "outputs": [],
   "source": [
    "#log cooling function\n",
    "def logarithmic_cooling(initial_temp, current_iteration):\n",
    "    return initial_temp / np.log2(2 + current_iteration)\n",
    "\n",
    "#exponential cooling function\n",
    "def exponential_cooling(initial_temp, current_iteration):\n",
    "    return initial_temp * 0.95**current_iteration\n",
    "\n",
    "#linear cooling function\n",
    "def linear_cooling(initial_temp, current_iteration):\n",
    "    #lol current iteration does nothing!!\n",
    "    return initial_temp - 0.0001\n",
    "\n",
    "#quadratic cooling function\n",
    "def quadratic_cooling(initial_temp, current_iteration):\n",
    "    return initial_temp - 0.0001 * current_iteration**2\n",
    "\n",
    "#acceptance function\n",
    "def acceptance_function(current_cost, new_cost, temperature):\n",
    "    if new_cost < current_cost:\n",
    "        return 1\n",
    "    else:\n",
    "        return np.exp((current_cost - new_cost) / temperature)\n",
    "\n",
    "#simulated annealing algorithm\n",
    "def simulated_annealing(its, temp, cooling, sd):\n",
    "    #set an initial random x\n",
    "    xbest = rng.uniform(1, 16, 4)\n",
    "    #set the overall best x to the initial x\n",
    "    overallbest = xbest\n",
    "    for i in range(its):\n",
    "        #make a new x based on the normal distribution around the current x\n",
    "        xnew = xbest + rng.standard_normal(4) * sd\n",
    "        #calculate results for the new x and the current best x\n",
    "        resultnew = func(xnew)\n",
    "        resultbest = func(xbest)\n",
    "        #check if constraints are met\n",
    "        if alltrue(xnew):\n",
    "            #check if the new x is better than the current best\n",
    "            if (resultnew < resultbest):\n",
    "                overallbest = xnew\n",
    "            #if not, check if the new x is accepted based on the acceptance function\n",
    "            else:\n",
    "                if rng.random() < acceptance_function(resultbest, resultnew, temp):\n",
    "                    xbest = xnew\n",
    "        #cool the temperature\n",
    "        temp = cooling(temp, i)\n",
    "\n",
    "    #check if the final x meets the constraints\n",
    "    if alltrue(overallbest):\n",
    "        print('SA: best found!')\n",
    "        return overallbest, func(overallbest)\n",
    "    #if it does, return the final x and its output\n",
    "    else:\n",
    "        print('SA: no true inputs found')\n",
    "        return None, None"
   ]
  },
  {
   "cell_type": "markdown",
   "metadata": {},
   "source": [
    "run simulated annealing"
   ]
  },
  {
   "cell_type": "code",
   "execution_count": 48,
   "metadata": {},
   "outputs": [],
   "source": [
    "#optimal = simulated_annealing(100000, 1000, exponential_cooling, 4)\n",
    "#print('optimal input: ', optimal[0], '\\noutput: ', optimal[1])"
   ]
  },
  {
   "cell_type": "markdown",
   "metadata": {},
   "source": [
    "run each 21 times and collect results"
   ]
  },
  {
   "cell_type": "code",
   "execution_count": 49,
   "metadata": {},
   "outputs": [
    {
     "name": "stdout",
     "output_type": "stream",
     "text": [
      "iteration 0\n",
      "RS: no true inputs found\n"
     ]
    },
    {
     "name": "stderr",
     "output_type": "stream",
     "text": [
      "C:\\Users\\tvern\\AppData\\Local\\Temp\\ipykernel_11240\\3330514049.py:51: RuntimeWarning: invalid value encountered in log\n",
      "  return ((6 * 10**(-6) * x[3] * x[0])/m.pi * h(x)**3) * (np.log(x[2] / x[1]))\n",
      "C:\\Users\\tvern\\AppData\\Local\\Temp\\ipykernel_11240\\3330514049.py:54: RuntimeWarning: invalid value encountered in log\n",
      "  return ((m.pi * p0(x)) / 2) * ((x[2]**2 - x[1]**2) / np.log(x[2] / x[1]))\n"
     ]
    },
    {
     "name": "stdout",
     "output_type": "stream",
     "text": [
      "SA: no true inputs found\n",
      "iteration 1\n",
      "RS: no true inputs found\n"
     ]
    },
    {
     "name": "stderr",
     "output_type": "stream",
     "text": [
      "C:\\Users\\tvern\\AppData\\Local\\Temp\\ipykernel_11240\\3330514049.py:38: RuntimeWarning: invalid value encountered in log10\n",
      "  return (np.log10(np.log10(8.122 * x[3] + 0.8)) - 10.04) / -3.55\n"
     ]
    },
    {
     "name": "stdout",
     "output_type": "stream",
     "text": [
      "SA: no true inputs found\n",
      "iteration 2\n",
      "RS: no true inputs found\n",
      "SA: best found!\n",
      "iteration 3\n",
      "RS: best found!\n"
     ]
    },
    {
     "name": "stderr",
     "output_type": "stream",
     "text": [
      "C:\\Users\\tvern\\AppData\\Local\\Temp\\ipykernel_11240\\586210894.py:23: RuntimeWarning: divide by zero encountered in scalar divide\n",
      "  return np.exp((current_cost - new_cost) / temperature)\n"
     ]
    },
    {
     "name": "stdout",
     "output_type": "stream",
     "text": [
      "SA: best found!\n",
      "iteration 4\n",
      "RS: no true inputs found\n",
      "SA: no true inputs found\n",
      "iteration 5\n",
      "RS: no true inputs found\n",
      "SA: no true inputs found\n",
      "iteration 6\n",
      "RS: best found!\n",
      "SA: no true inputs found\n",
      "iteration 7\n",
      "RS: no true inputs found\n",
      "SA: no true inputs found\n",
      "iteration 8\n",
      "RS: no true inputs found\n",
      "SA: no true inputs found\n",
      "iteration 9\n",
      "RS: no true inputs found\n",
      "SA: best found!\n",
      "iteration 10\n",
      "RS: no true inputs found\n",
      "SA: no true inputs found\n",
      "iteration 11\n",
      "RS: no true inputs found\n",
      "SA: no true inputs found\n",
      "iteration 12\n",
      "RS: no true inputs found\n",
      "SA: no true inputs found\n",
      "iteration 13\n",
      "RS: no true inputs found\n",
      "SA: no true inputs found\n",
      "iteration 14\n",
      "RS: no true inputs found\n",
      "SA: no true inputs found\n",
      "iteration 15\n",
      "RS: no true inputs found\n",
      "SA: no true inputs found\n",
      "iteration 16\n",
      "RS: best found!\n",
      "SA: no true inputs found\n",
      "iteration 17\n",
      "RS: no true inputs found\n",
      "SA: no true inputs found\n",
      "iteration 18\n",
      "RS: no true inputs found\n",
      "SA: no true inputs found\n",
      "iteration 19\n",
      "RS: no true inputs found\n",
      "SA: no true inputs found\n",
      "iteration 20\n",
      "RS: no true inputs found\n",
      "SA: no true inputs found\n",
      "done!\n"
     ]
    }
   ],
   "source": [
    "rs_inputs = []\n",
    "rs_results = []\n",
    "sa_inputs = []\n",
    "sa_results = []\n",
    "for i in range(21):\n",
    "    print('iteration', i)\n",
    "    rs_result = rand_search_no_gen(10000)\n",
    "    if rs_result[1] != None:\n",
    "        rs_results.append(rs_result[1])\n",
    "        rs_inputs.append(rs_result[0])\n",
    "    sa_result = simulated_annealing(10000, 1000, logarithmic_cooling, 3)\n",
    "    if sa_result[1] != None:\n",
    "        sa_results.append(sa_result[1])\n",
    "        sa_inputs.append(sa_result[0])\n",
    "print('done!')"
   ]
  },
  {
   "cell_type": "markdown",
   "metadata": {},
   "source": [
    "plot the graphs"
   ]
  },
  {
   "cell_type": "code",
   "execution_count": 50,
   "metadata": {},
   "outputs": [
    {
     "data": {
      "image/png": "[encoded data removed]",
      "text/plain": [
       "<Figure size 640x480 with 1 Axes>"
      ]
     },
     "metadata": {},
     "output_type": "display_data"
    },
    {
     "data": {
      "image/png": "[encoded data removed]",
      "text/plain": [
       "<Figure size 640x480 with 1 Axes>"
      ]
     },
     "metadata": {},
     "output_type": "display_data"
    }
   ],
   "source": [
    "#plot the results of both algorithms\n",
    "plt.scatter(range(len(rs_results)), rs_results, label='random search')\n",
    "plt.scatter(range(len(sa_results)), sa_results, label='simulated annealing')\n",
    "plt.xlabel('iteration')\n",
    "plt.ylabel('function value')\n",
    "# write the minimum for both sa and rs on the side of the graph on the top right\n",
    "plt.text(0, 2000, 'min rs: ' + str(min(rs_results)) + '\\nmin sa: ' + str(min(sa_results)))\n",
    "#write a key for the colours\n",
    "plt.legend()\n",
    "plt.show()\n",
    "\n",
    "#plot two box plots for each algorithm, one for sa and one for rs\n",
    "plt.figure()\n",
    "plt.boxplot([rs_results, sa_results], labels=['random search', 'simulated annealing'])\n",
    "plt.ylabel('function value')\n",
    "plt.show()\n"
   ]
  },
  {
   "cell_type": "markdown",
   "metadata": {},
   "source": [
    "After 21 runs of each optimizer and analyzing their performance by plotting their outputs on a graph, I cannot draw any comparisons between the two algorithms. It seems that the harsh constraints applied to the inputs, particularly g1, prevent most of the solutions from both algorithms from being accepted. So even with 21 repetitions of 10,000 iterations of each algorithm, only a couple of solutions from each algorithm are found, and sometimes none at all. If the constraints weren't so harsh/complex or the dimensions were reduced, perhaps simulated annealing could be more efficient at finding a solution. More iterations of the algorithms could also make it easier to analyze the outputs of each of them.\n",
    "\n",
    "Despite this, based on the data we have, it seems like random search is more erratic in its outputs given the increased range. It is also more likely to find a solution that satisfies the constraints, given the random nature of the algorithm.\n",
    "\n",
    "For simulated annealing, it seems less likely to find a result because the algorithm does not take into account the multi-dimensional nature of the input. It could perhaps try to iterate individually over each dimension, but it is not certain if this could work better at finding solutions as the constraints cross over dimensions and affect one another.\n",
    "\n"
   ]
  }
 ],
 "metadata": {
  "kernelspec": {
   "display_name": "Python 3",
   "language": "python",
   "name": "python3"
  },
  "language_info": {
   "codemirror_mode": {
    "name": "ipython",
    "version": 3
   },
   "file_extension": ".py",
   "mimetype": "text/x-python",
   "name": "python",
   "nbconvert_exporter": "python",
   "pygments_lexer": "ipython3",
   "version": "3.11.5"
  }
 },
 "nbformat": 4,
 "nbformat_minor": 2
}
